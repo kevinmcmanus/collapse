{
 "cells": [
  {
   "cell_type": "code",
   "execution_count": 1,
   "metadata": {},
   "outputs": [],
   "source": [
    "import numpy as np\n",
    "import matplotlib.pyplot as plt"
   ]
  },
  {
   "cell_type": "code",
   "execution_count": 54,
   "metadata": {},
   "outputs": [],
   "source": [
    "G = 6.674e-11 #N m^2 kg^-2\n",
    "\n",
    "#Boltzmann's constant\n",
    "k_b = 1.3807e-23 # J K^-1\n",
    "\n",
    "#speed of light\n",
    "c = 3e8 #m/s\n",
    "\n",
    "#Hydrogen Mass:\n",
    "m_H = 1.67353e-27 #kg\n",
    "\n",
    "meters_per_au = 1.49e11\n",
    "meters_per_pc = 3.086e16\n",
    "seconds_per_year = 3600*24*365\n",
    "\n"
   ]
  },
  {
   "cell_type": "code",
   "execution_count": 42,
   "metadata": {},
   "outputs": [
    {
     "name": "stdout",
     "output_type": "stream",
     "text": [
      "r: 5.42e+15 meters, or 3.64e+04 au or 1.76e-01 pc\n"
     ]
    }
   ],
   "source": [
    "M_sun = 2e30 #kg\n",
    "rho = 3e-17 #kg m^-3 (Carrol/Ostlie P 414)\n",
    "M = M_sun *10 #(Carrol/Ostlie P 414)\n",
    "# rho = m/V => V=m/rho\n",
    "\n",
    "V = M/rho\n",
    "r3 = 3*V/(4*np.pi)\n",
    "r = np.power(r3, 1./3.)\n",
    "\n",
    "print(f'r: {r:.2e} meters, or {r/meters_per_au:.2e} au or {r/meters_per_pc:.2e} pc')"
   ]
  },
  {
   "cell_type": "markdown",
   "metadata": {},
   "source": [
    "## free fall time ala Carrol/Ostlie\n",
    "\n",
    "\\begin{equation}\n",
    "t_{ff} = \\left(\\frac{3\\pi}{32} \\frac{1}{G\\rho_0} \\right)^\\frac{1}{2}\n",
    "\\end{equation}\n",
    "\n",
    "where $\\rho_0$ is the intial mass density of the cloud"
   ]
  },
  {
   "cell_type": "code",
   "execution_count": 11,
   "metadata": {},
   "outputs": [],
   "source": [
    "#free fall time ala Carrol/Ostlie\n",
    "def t_free_fall(rho):\n",
    "    t_ff = np.sqrt(3*np.pi/(32*G*rho))\n",
    "    return t_ff"
   ]
  },
  {
   "cell_type": "code",
   "execution_count": 14,
   "metadata": {},
   "outputs": [
    {
     "name": "stdout",
     "output_type": "stream",
     "text": [
      "Free fall time: 1.21e+13 s or 3.85e+05 year\n"
     ]
    }
   ],
   "source": [
    "t_ff = t_free_fall(rho)\n",
    "print(f'Free fall time: {t_ff:.2e} s or {t_ff/seconds_per_year:.2e} year')"
   ]
  },
  {
   "cell_type": "code",
   "execution_count": 61,
   "metadata": {},
   "outputs": [],
   "source": [
    "def t_ff_euler(M, r0, t, v0=0.0):\n",
    "    r_t = np.zeros(len(t))\n",
    "    v_t = np.zeros(len(t))\n",
    "\n",
    "    #initial conditions at t=0\n",
    "    r_t[0] = r0\n",
    "    v_t[0] = v0\n",
    "\n",
    "    for i in range(1, len(t)):\n",
    "        dt = t[i]-t[i-1]\n",
    "\n",
    "        #gravitational acceleration\n",
    "        a = -G*M/(r_t[i-1]**2) \n",
    "        v_t[i] = v_t[i-1] + a*dt\n",
    "        r_t[i] = r_t[i-1] + v_t[i-1]*dt\n",
    "\n",
    "        if r_t[i] <= 0:\n",
    "            break\n",
    "\n",
    "    return r_t[:i+1], v_t[:i+1], t[:i+1]\n",
    "\n",
    "\n"
   ]
  },
  {
   "cell_type": "code",
   "execution_count": 66,
   "metadata": {},
   "outputs": [
    {
     "name": "stdout",
     "output_type": "stream",
     "text": [
      "dt: 1.52e+07 seconds or 0.48 years\n",
      "Euler approx: Free fall time: 1.21e+13 seconds or 384,594 years\n",
      "Approximation Error: 0.00 %\n",
      "\n",
      "Initial radius: 5.42e+15 m, Final radius: -1.89e+11 m\n",
      "Final velocity: 1.04e+05 m/s\n"
     ]
    }
   ],
   "source": [
    "t, dt = np.linspace(0, t_ff*1.25, 1000000, retstep=True)\n",
    "print(f'dt: {dt:.2e} seconds or {dt/seconds_per_year:.2f} years')\n",
    "\n",
    "r_t, v_t, t = t_ff_euler(M, r, t)\n",
    "\n",
    "\n",
    "t_ff_e = t[-1]\n",
    "\n",
    "print(f'Euler approx: Free fall time: {t_ff_e:.2e} seconds or {t_ff_e/seconds_per_year:,.0f} years')\n",
    "print(f'Approximation Error: {100.0*(t_ff_e/t_ff-1):.2f} %')\n",
    "print()\n",
    "print(f'Initial radius: {r:.2e} m, Final radius: {r_t[-1]:.2e} m')\n",
    "print(f'Final velocity: {-v_t[-1]:.2e} m/s')"
   ]
  },
  {
   "cell_type": "code",
   "execution_count": 67,
   "metadata": {},
   "outputs": [
    {
     "data": {
      "text/plain": [
       "Text(0.5, 0, 'Years')"
      ]
     },
     "execution_count": 67,
     "metadata": {},
     "output_type": "execute_result"
    },
    {
     "data": {
      "image/png": "[encoded data removed]",
      "text/plain": [
       "<Figure size 432x288 with 1 Axes>"
      ]
     },
     "metadata": {
      "needs_background": "light"
     },
     "output_type": "display_data"
    }
   ],
   "source": [
    "plt.plot(t/seconds_per_year,r_t/r)\n",
    "plt.ylabel('Fraction Initial Radius')\n",
    "plt.xlabel('Years')"
   ]
  },
  {
   "cell_type": "code",
   "execution_count": 68,
   "metadata": {},
   "outputs": [
    {
     "data": {
      "text/plain": [
       "Text(0.5, 0, 'years')"
      ]
     },
     "execution_count": 68,
     "metadata": {},
     "output_type": "execute_result"
    },
    {
     "data": {
      "image/png": "[encoded data removed]",
      "text/plain": [
       "<Figure size 432x288 with 1 Axes>"
      ]
     },
     "metadata": {
      "needs_background": "light"
     },
     "output_type": "display_data"
    }
   ],
   "source": [
    "plt.plot(t/seconds_per_year, -v_t/c)\n",
    "plt.ylabel('velocity/c')\n",
    "plt.xlabel('years')"
   ]
  },
  {
   "cell_type": "markdown",
   "metadata": {},
   "source": [
    "Carroll/Ostlie Page 286, eq 10.5:\n",
    "\n",
    "\\begin{equation}\n",
    "    dm\\ddot{r} = -F{grav} + F_P\n",
    "\\end{equation}\n",
    "Deriving and substituting expressions for $F_{grav}$ and $F_P$ (full details of which to be provided in thre final paper) into the equation above produces the following equation of motion from \n",
    "\\begin{align}\n",
    "    \\ddot{r} &= \\frac{1}{\\rho}\\left( -G\\frac{M_r\\rho}{r^2} - \\frac{dP}{dr}\\right)\n",
    "\\end{align}\n",
    "\n",
    "Since the gas is ideal\n",
    "\\begin{align}\n",
    "    PV &= NkT \\\\\n",
    "    P &= \\frac{NkT}{\\frac{4}{3}\\pi r^3} \\\\\n",
    "    \\frac{dP}{dr} &= -\\frac{9}{4\\pi} \\frac{NkT}{r^4}\n",
    "\\end{align}"
   ]
  },
  {
   "cell_type": "code",
   "execution_count": 177,
   "metadata": {},
   "outputs": [],
   "source": [
    "def HSE_euler(M, r0, T0, t, v0=0.0, atomic = True):\n",
    "    \n",
    "    # time series for state variables\n",
    "    r_t = np.zeros(len(t)) # radius\n",
    "    v_t = np.zeros(len(t)) # velocity\n",
    "    a_t = np.zeros(len(t)) # acceleration\n",
    "    P_t = np.zeros(len(t)) # pressure\n",
    "    V_t = np.zeros(len(t)) # Volume\n",
    "    T_t = np.zeros(len(t)) # temperature (K)\n",
    "    rho_t = np.zeros(len(t)) # mass density\n",
    "\n",
    "    #number of particles:\n",
    "    n_p = 1 if atomic else 2 #molecular or atomic hydrogen\n",
    "    # number of particles is mass  div'd by mass of each particle\n",
    "    N = M/(n_p*m_H)\n",
    "\n",
    "    #initial conditions at t=0\n",
    "    r_t[0] = r0\n",
    "    v_t[0] = v0\n",
    "    a_t[0] = 0 \n",
    "    T_t[0] = T0; dT_dt = 0 # for now\n",
    "    V_t[0] = (4.0/3.0)*np.pi*np.power(r0,3)\n",
    "    P_t[0] = N*k_b*T0/V_t[0]\n",
    "    rho_t[0] = M/V_t[0]\n",
    "\n",
    "    for i in range(1, len(t)):\n",
    "        dt = t[i]-t[i-1]\n",
    "\n",
    "        #pressure change:\n",
    "        dp_dr = -(9/4*np.pi)*(N*k_b*T_t[i-1]/np.power(r_t[i-1],4))\n",
    "\n",
    "        #acceleration\n",
    "        a = (1/rho_t[i-1])*((-G*M*rho_t[i-1]/r_t[i-1]**2) - dp_dr)\n",
    "        a_t[i] = a\n",
    "        v_t[i] = v_t[i-1] + a*dt\n",
    "        r_t[i] = r_t[i-1] + v_t[i-1]*dt\n",
    "\n",
    "        T_t[i] = T_t[i-1] + dT_dt*dt\n",
    "        V_t[i] = (4.0/3.0)*np.pi*np.power(r_t[i],3)\n",
    "        P_t[i] = N*k_b*T_t[i]/V_t[i]\n",
    "        rho_t[i] = M/V_t[i]\n",
    "\n",
    "        if r_t[i] <= 0:\n",
    "            break\n",
    "    print(f'Stopping after {i} iterations') \n",
    "    \n",
    "    res = {'Radius':r_t[:i], 'Velocity': v_t[:i], 'Acceleration': a_t[:i],\n",
    "            'Pressure':P_t[:i], 'Temperature':T_t[:i], \n",
    "            'Density':rho_t[:i], 'Time':t[:i]}\n",
    "    \n",
    "    return res"
   ]
  },
  {
   "cell_type": "code",
   "execution_count": 206,
   "metadata": {},
   "outputs": [],
   "source": [
    "def plot_res(res):\n",
    "    years = res['Time']/seconds_per_year\n",
    "    fig, axs = plt.subplots(figsize=(12,8), nrows=2, ncols=2)\n",
    "    axs = axs.flatten()\n",
    "    axs[0].plot(years, res['Radius'])\n",
    "    axs[0].set_ylabel('Meters')\n",
    "    axs[0].set_xlabel('Years')\n",
    "    axs[0].set_title('Radius')\n",
    "\n",
    "    axs[1].semilogy(years, res['Pressure'])\n",
    "    axs[1].set_ylabel('Pressure')\n",
    "    axs[1].set_xlabel('Years')\n",
    "    axs[1].set_title('Pressure')\n",
    "\n",
    "    axs[2].semilogy(years, res['Density'])\n",
    "    axs[2].set_ylabel('kg/m^3')\n",
    "    axs[2].set_xlabel('Years')\n",
    "    axs[2].set_title('Density')\n",
    "\n",
    "    axs[3].plot(years, res['Temperature'])\n",
    "    axs[3].set_ylabel('K')\n",
    "    axs[3].set_xlabel('Years')\n",
    "    axs[3].set_title('Temperature')\n",
    "\n",
    "    fig.tight_layout()"
   ]
  },
  {
   "cell_type": "code",
   "execution_count": 157,
   "metadata": {},
   "outputs": [],
   "source": [
    "#Ostlie P 413, eq 12.14\n",
    "def jeans_mass(T, n, atomic = True):\n",
    "    # n is particle density: particles per cubic meter\n",
    "    mu = 1 if atomic else 2\n",
    "    rho_0 = mu*m_H*n\n",
    "\n",
    "    m_j = np.power(5*k_b*T/(G*mu*m_H), 3./2)*np.power(3/(4*np.pi*rho_0),1./2)\n",
    "    return m_j\n",
    "\n",
    "def jeans_length(T, n, atomic = True):\n",
    "    # n is particle density: particles per cubic meter\n",
    "    mu = 1 if atomic else 2\n",
    "    rho_0 = mu*m_H*n\n",
    "\n",
    "    R_j = np.power(15*k_b*T/(4*np.pi*G*mu*m_H*rho_0), 1/2)\n",
    "\n",
    "    return R_j\n",
    "\n",
    "#Maoz P 116, eq 5.6\n",
    "def jeans_mass_maoz(r, T,  atomic=True):\n",
    "    mbar = m_H if atomic else 2*m_H\n",
    "    m_j = 3*k_b*T/(G*mbar)\n",
    "\n",
    "    return m_j\n",
    "\n",
    "def jeans_length_maoz(M, T, atomic=True):\n",
    "    mbar = m_H if atomic else 2*m_H\n",
    "    r_j = G*mbar*M/(3*k_b*T)\n",
    "\n",
    "    #mass density\n",
    "    rho_j = (3/(4*np.pi*M**2))*np.power((3*k_b*T)/(G*mbar),3)\n",
    "\n",
    "    #particle density\n",
    "    n_bar = rho_j/mbar\n",
    "\n",
    "\n",
    "    return r_j, rho_j, n_bar\n"
   ]
  },
  {
   "cell_type": "code",
   "execution_count": 114,
   "metadata": {},
   "outputs": [
    {
     "data": {
      "text/plain": [
       "1450.9531521249287"
      ]
     },
     "execution_count": 114,
     "metadata": {},
     "output_type": "execute_result"
    }
   ],
   "source": [
    "#See example 12.2.1 P 414\n",
    "jeans_mass(50, 5e8)/M_sun"
   ]
  },
  {
   "cell_type": "code",
   "execution_count": 116,
   "metadata": {},
   "outputs": [
    {
     "data": {
      "text/plain": [
       "7.254765760624645"
      ]
     },
     "execution_count": 116,
     "metadata": {},
     "output_type": "execute_result"
    }
   ],
   "source": [
    "#See example 12.2.1 P 414\n",
    "jeans_mass(10, 1e10, atomic=False)/M_sun"
   ]
  },
  {
   "cell_type": "code",
   "execution_count": 143,
   "metadata": {},
   "outputs": [
    {
     "name": "stdout",
     "output_type": "stream",
     "text": [
      "Jeans length: 3.15e+04 au\n"
     ]
    }
   ],
   "source": [
    "print(f'Jeans length: {jeans_length(10, 1e10, atomic=False)/meters_per_au:.2e} au')"
   ]
  },
  {
   "cell_type": "code",
   "execution_count": 158,
   "metadata": {},
   "outputs": [
    {
     "name": "stdout",
     "output_type": "stream",
     "text": [
      "Jeans length: 3.62e+06 au, Jeans density: 3.04e-21 kg/m^3, particle density: 9.09e+05\n"
     ]
    }
   ],
   "source": [
    "r_j, rho_j, n_bar = jeans_length_maoz(1000*M_sun, 20.0, atomic=False)\n",
    "\n",
    "print(f'Jeans length: {r_j/meters_per_au:.2e} au, Jeans density: {rho_j:.2e} kg/m^3, particle density: {n_bar:.2e}')"
   ]
  },
  {
   "cell_type": "code",
   "execution_count": 121,
   "metadata": {},
   "outputs": [
    {
     "name": "stdout",
     "output_type": "stream",
     "text": [
      "r: 5.42e+15 meters, or 3.64e+04 au or 1.76e-01 pc\n"
     ]
    }
   ],
   "source": [
    "M_sun = 2e30 #kg\n",
    "rho = 3e-17 #kg m^-3 (Carrol/Ostlie P 414)\n",
    "M = M_sun *10 #(Carrol/Ostlie P 414)\n",
    "# rho = m/V => V=m/rho\n",
    "\n",
    "V = M/rho\n",
    "r3 = 3*V/(4*np.pi)\n",
    "r = np.power(r3, 1./3.)\n",
    "\n",
    "print(f'r: {r:.2e} meters, or {r/meters_per_au:.2e} au or {r/meters_per_pc:.2e} pc')"
   ]
  },
  {
   "cell_type": "code",
   "execution_count": 159,
   "metadata": {},
   "outputs": [
    {
     "name": "stdout",
     "output_type": "stream",
     "text": [
      "dt: 1.52e+09 seconds or 48.08 years\n"
     ]
    }
   ],
   "source": [
    "t, dt = np.linspace(0, t_ff*1.25, 10000, retstep=True)\n",
    "print(f'dt: {dt:.2e} seconds or {dt/seconds_per_year:.2f} years')"
   ]
  },
  {
   "cell_type": "code",
   "execution_count": 160,
   "metadata": {},
   "outputs": [
    {
     "name": "stdout",
     "output_type": "stream",
     "text": [
      "Stopping after 1284 iterations\n"
     ]
    }
   ],
   "source": [
    "res = HSE_euler(M/1000, r, 100.0, t)"
   ]
  },
  {
   "cell_type": "code",
   "execution_count": 224,
   "metadata": {},
   "outputs": [
    {
     "name": "stdout",
     "output_type": "stream",
     "text": [
      "Stopping after 9999 iterations\n"
     ]
    },
    {
     "data": {
      "image/png": "[encoded data removed]",
      "text/plain": [
       "<Figure size 864x576 with 4 Axes>"
      ]
     },
     "metadata": {
      "needs_background": "light"
     },
     "output_type": "display_data"
    }
   ],
   "source": [
    "t, dt = np.linspace(0, t_ff*55, 10000, retstep=True)\n",
    "res = HSE_euler(1000*M_sun, r_j*0.2026, 5, t, atomic=True)\n",
    "plot_res(res)\n"
   ]
  }
 ],
 "metadata": {
  "kernelspec": {
   "display_name": "astro",
   "language": "python",
   "name": "python3"
  },
  "language_info": {
   "codemirror_mode": {
    "name": "ipython",
    "version": 3
   },
   "file_extension": ".py",
   "mimetype": "text/x-python",
   "name": "python",
   "nbconvert_exporter": "python",
   "pygments_lexer": "ipython3",
   "version": "3.9.7"
  }
 },
 "nbformat": 4,
 "nbformat_minor": 2
}
